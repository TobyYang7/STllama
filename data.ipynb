{
 "cells": [
  {
   "cell_type": "code",
   "execution_count": 1,
   "metadata": {},
   "outputs": [
    {
     "name": "stdout",
     "output_type": "stream",
     "text": [
      "                                id  \\\n",
      "0  train_NYCmulti_region_0_1_len_0   \n",
      "1  train_NYCmulti_region_1_2_len_0   \n",
      "2  train_NYCmulti_region_2_3_len_0   \n",
      "3  train_NYCmulti_region_3_4_len_0   \n",
      "4  train_NYCmulti_region_4_5_len_0   \n",
      "\n",
      "                                       conversations  \n",
      "0  [{'from': 'human', 'value': 'Given the histori...  \n",
      "1  [{'from': 'human', 'value': 'Given the histori...  \n",
      "2  [{'from': 'human', 'value': 'Given the histori...  \n",
      "3  [{'from': 'human', 'value': 'Given the histori...  \n",
      "4  [{'from': 'human', 'value': 'Given the histori...  \n",
      "(863040, 2)\n"
     ]
    }
   ],
   "source": [
    "import pandas as pd\n",
    "\n",
    "df_json = pd.read_json(\"data/train_data/multi_NYC.json\")\n",
    "df_pkl = pd.read_pickle(\"data/train_data/multi_NYC_pkl.pkl\")\n",
    "print(df_json.head())\n",
    "print(df_json.shape)"
   ]
  },
  {
   "cell_type": "code",
   "execution_count": 2,
   "metadata": {},
   "outputs": [
    {
     "name": "stdout",
     "output_type": "stream",
     "text": [
      "<class 'list'>\n"
     ]
    }
   ],
   "source": [
    "len(df_pkl)  # 10788\n",
    "print(type(df_pkl))"
   ]
  },
  {
   "cell_type": "code",
   "execution_count": 3,
   "metadata": {},
   "outputs": [
    {
     "data": {
      "text/plain": [
       "(1, 12, 80, 3)"
      ]
     },
     "execution_count": 3,
     "metadata": {},
     "output_type": "execute_result"
    }
   ],
   "source": [
    "df_pkl[0]['data_x'].shape  # (1,12,80,3)"
   ]
  },
  {
   "cell_type": "code",
   "execution_count": 4,
   "metadata": {},
   "outputs": [
    {
     "name": "stdout",
     "output_type": "stream",
     "text": [
      "Given the historical data for crime over 12 time steps in a specific region of New York City, the recorded number of robberies is [0 0 0 1 0 1 0 0 0 0 1 0], and the recorded number of assaults is [0 0 0 2 1 0 0 0 0 0 0 0]. The recording time of the historical data is 'November 14, 2018, 00:00, Wednesday to November 25, 2018, 00:00, Sunday, with data points recorded at 1-day intervals'. Here is the region information: This region is located within the Staten Island borough district and encompasses various POIs within a one-kilometer radius, covering Education Facility, Recreational Facility, Cultural Facility, Residential categories. Now we aim to predict whether the two specific crimes will occur in this region within the next 12 time steps during the time period of 'November 26, 2018, 00:00, Monday to December 7, 2018, 00:00, Friday, with data points recorded at 1-day intervals'. To improve prediction accuracy, a spatio-temporal model is utilized to encode the historical crime data as tokens <ST_HIS>, where the first and the second tokens correspond to the representations of robberies and assaults. Please conduct an analysis of the crime patterns in this region, considering the provided time and regional information, and then generate the prediction tokens for classification, in the form \"<ST_PRE>\".\n"
     ]
    }
   ],
   "source": [
    "print(df_json['conversations'][0][0]['value'])"
   ]
  },
  {
   "cell_type": "markdown",
   "metadata": {},
   "source": [
    "Given the historical data for crime over 12 time steps in a specific region of New York City, the recorded number of robberies is [0 0 0 1 0 1 0 0 0 0 1 0], and the recorded number of assaults is [0 0 0 2 1 0 0 0 0 0 0 0]. The recording time of the historical data is 'November 14, 2018, 00:00, Wednesday to November 25, 2018, 00:00, Sunday, with data points recorded at 1-day intervals'. Here is the region information: This region is located within the Staten Island borough district and encompasses various POIs within a one-kilometer radius, covering Education Facility, Recreational Facility, Cultural Facility, Residential categories. Now we aim to predict whether the two specific crimes will occur in this region within the next 12 time steps during the time period of 'November 26, 2018, 00:00, Monday to December 7, 2018, 00:00, Friday, with data points recorded at 1-day intervals'. To improve prediction accuracy, a spatio-temporal model is utilized to encode the historical crime data as tokens <ST_HIS>, where the first and the second tokens correspond to the representations of robberies and assaults. Please conduct an analysis of the crime patterns in this region, considering the provided time and regional information, and then generate the prediction tokens for classification, in the form \"<ST_PRE>\"."
   ]
  },
  {
   "cell_type": "code",
   "execution_count": 5,
   "metadata": {},
   "outputs": [
    {
     "name": "stdout",
     "output_type": "stream",
     "text": [
      "0.0 0.0 0.0 1.0 0.0 1.0 0.0 0.0 0.0 0.0 1.0 0.0 \n",
      "0.0 1.0 1.0 0.0 0.0 0.0 0.0 2.0 1.0 0.0 1.0 0.0 "
     ]
    }
   ],
   "source": [
    "idx = 0\n",
    "F = 0\n",
    "\n",
    "for i in range(12):\n",
    "    print(df_pkl[0]['data_x'][0, i, idx, F], end=' ')\n",
    "\n",
    "print()  # 添加一个新行以分隔两个循环的输出\n",
    "\n",
    "for i in range(12):\n",
    "    print(df_pkl[0]['data_y'][0, i, idx, F], end=' ')"
   ]
  },
  {
   "cell_type": "code",
   "execution_count": 6,
   "metadata": {},
   "outputs": [],
   "source": [
    "# import pickle\n",
    "# df_json_sample = df_json[:80]\n",
    "# df_json_sample.to_json(\"data/train_data/multi_NYC_sample.json\")\n",
    "# df_pkl_sample = df_pkl[:1]\n",
    "# with open('data/train_data/multi_NYC_pkl_sample.pkl', 'wb') as f:\n",
    "#     pickle.dump(df_pkl_sample, f)"
   ]
  },
  {
   "cell_type": "code",
   "execution_count": 7,
   "metadata": {},
   "outputs": [
    {
     "name": "stdout",
     "output_type": "stream",
     "text": [
      "[{'from': 'human', 'value': 'Given the historical data for taxi flow over 12 time steps in a specific region of New York City, the recorded taxi inflows are [0 4 2 2 1 1 1 2 2 1 0 2], and the recorded taxi outflows are [0 2 0 0 0 0 0 0 0 0 0 0]. The recording time of the historical data is \\'January 26, 2017, 21:00, Thursday to January 27, 2017, 02:30, Friday, with data points recorded at 30-minute intervals\\'. Here is the region information: No description is available for this region. Now we want to predict the taxi inflow and outflow for the next 12 time steps during the time period of \\'January 27, 2017, 03:00, Friday to January 27, 2017, 08:30, Friday, with data points recorded at 30-minute intervals\\'. To improve prediction accuracy, a spatio-temporal model is utilized to encode the historical taxi data as tokens <ST_HIS>, where the first and the second tokens correspond to the representations of taxi inflow and outflow. Please conduct an analysis of the traffic patterns in this region, taking into account the provided time and regional information, and then generate the predictive tokens for regression, in the form \"<ST_PRE>\".'}, {'from': 'gpt', 'value': 'Based on the given information, the predictive tokens of taxi inflow and outflow in this region are <ST_PRE>.'}]\n"
     ]
    }
   ],
   "source": [
    "# print(df_json['id'])\n",
    "print(df_json['conversations'][100])"
   ]
  },
  {
   "cell_type": "code",
   "execution_count": 9,
   "metadata": {},
   "outputs": [],
   "source": [
    "import json"
   ]
  },
  {
   "cell_type": "code",
   "execution_count": 23,
   "metadata": {},
   "outputs": [],
   "source": [
    "data_path = '/home/zhangmin/toby/UrbanGPT/data/discharge/st_gpt.json'\n",
    "# data_path = '/home/zhangmin/toby/UrbanGPT/data/train_data/multi_NYC.json'\n",
    "list_data_dict = json.load(open(data_path, \"r\"))\n",
    "len(list_data_dict)\n",
    "sources = list_data_dict[0]"
   ]
  },
  {
   "cell_type": "code",
   "execution_count": 24,
   "metadata": {},
   "outputs": [
    {
     "name": "stdout",
     "output_type": "stream",
     "text": [
      "55740\n"
     ]
    }
   ],
   "source": [
    "print(len(list_data_dict))"
   ]
  },
  {
   "cell_type": "code",
   "execution_count": 86,
   "metadata": {},
   "outputs": [
    {
     "name": "stdout",
     "output_type": "stream",
     "text": [
      "train_discharge_site_13_14_len_3\n"
     ]
    }
   ],
   "source": [
    "sources = list_data_dict[73]\n",
    "print(sources['id'])\n",
    "region_start = int(sources[\"id\"].split('_')[3])\n",
    "region_end = int(sources[\"id\"].split('_')[4])\n",
    "i4data_all = int(sources[\"id\"].split('_')[6])"
   ]
  },
  {
   "cell_type": "code",
   "execution_count": 87,
   "metadata": {},
   "outputs": [
    {
     "name": "stdout",
     "output_type": "stream",
     "text": [
      "[{'from': 'human', 'value': \"Given the historical data for sediment and discharge over 12 time steps in site N, the recorded sediment values are [91.00 71.00 220.00 165.00 99.00 51.00 35.00 34.00 34.00 33.00 32.00 31.00], and the recorded discharge values are [725.00 537.00 2650.00 1900.00 621.00 355.00 233.00 160.00 174.00 171.00 143.00 114.00]. The recording time of the historical data is 'April 18, 2015, 00:00, Saturday to April 29, 2015, 00:00, Wednesday, with data points recorded at 1-day intervals'. Note: A sediment value of 0.00 indicates missing data. Now we aim to predict the sediment and discharge in this region within the next 12 time steps.  and flows out to site P. To improve prediction accuracy, a spatio-temporal model is utilized to encode the historical data as tokens <ST_HIS>, where the first token corresponds to sediment and the second token corresponds to discharge. Please conduct an analysis of the patterns in this region, considering the provided time and information, and then generate the prediction tokens for classification, in the form <ST_PRE>.\"}, {'from': 'gpt', 'value': 'Based on the given information, the predicted tokens in this region are <ST_PRE>.'}]\n"
     ]
    }
   ],
   "source": [
    "print(sources['conversations'])"
   ]
  },
  {
   "cell_type": "code",
   "execution_count": 88,
   "metadata": {},
   "outputs": [],
   "source": [
    "df_pkl = pd.read_pickle('/home/zhangmin/toby/UrbanGPT/data/discharge/st_data.pkl')"
   ]
  },
  {
   "cell_type": "code",
   "execution_count": 90,
   "metadata": {},
   "outputs": [
    {
     "name": "stdout",
     "output_type": "stream",
     "text": [
      "91.0 71.0 220.0 165.0 99.0 51.0 35.0 34.0 34.0 33.0 32.0 31.0 "
     ]
    }
   ],
   "source": [
    "for t in range(12):\n",
    "    print(df_pkl[i4data_all]['data_x'][0, t, region_start, 0], end=' ')"
   ]
  },
  {
   "cell_type": "code",
   "execution_count": null,
   "metadata": {},
   "outputs": [],
   "source": []
  }
 ],
 "metadata": {
  "kernelspec": {
   "display_name": "pytorch-2.0",
   "language": "python",
   "name": "python3"
  },
  "language_info": {
   "codemirror_mode": {
    "name": "ipython",
    "version": 3
   },
   "file_extension": ".py",
   "mimetype": "text/x-python",
   "name": "python",
   "nbconvert_exporter": "python",
   "pygments_lexer": "ipython3",
   "version": "3.8.17"
  }
 },
 "nbformat": 4,
 "nbformat_minor": 2
}
