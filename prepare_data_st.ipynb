{
 "cells": [
  {
   "cell_type": "code",
   "execution_count": 4,
   "metadata": {},
   "outputs": [],
   "source": [
    "import pandas as pd\n",
    "import numpy as np\n",
    "from datetime import datetime, timedelta\n",
    "from util import *\n",
    "from joblib import Parallel, delayed\n",
    "\n",
    "\n",
    "def batch_get_sediment_quantity(date_range, site_codes):\n",
    "    sediment_data = pd.read_csv('discharge/SSC_sediment.csv', parse_dates=['date']).fillna(0)\n",
    "    discharge_data = pd.read_csv('discharge/SSC_discharge.csv', parse_dates=['date'])\n",
    "\n",
    "    sediment_data = sediment_data[sediment_data['date'].isin(date_range)]\n",
    "    discharge_data = discharge_data[discharge_data['date'].isin(date_range)]\n",
    "\n",
    "    sediment_data.set_index(['date'], inplace=True)\n",
    "    discharge_data.set_index(['date'], inplace=True)\n",
    "\n",
    "    return sediment_data, discharge_data\n",
    "\n",
    "\n",
    "def process_site(site, date_range, sediment_data, discharge_data):\n",
    "    N = len(date_range)\n",
    "    data = np.zeros((N, 2))\n",
    "    for j, date in enumerate(date_range):\n",
    "        if date in sediment_data.index and str(site) in sediment_data.columns:\n",
    "            data[j, 0] = sediment_data.loc[date, str(site)]\n",
    "        if date in discharge_data.index and str(site) in discharge_data.columns:\n",
    "            data[j, 1] = discharge_data.loc[date, str(site)]\n",
    "    return data\n",
    "\n",
    "\n",
    "def generate_spatio_temporal_data(start_date, end_date, site_codes):\n",
    "    start_date = datetime.strptime(start_date, '%Y-%m-%d')\n",
    "    end_date = datetime.strptime(end_date, '%Y-%m-%d')\n",
    "    date_range = pd.date_range(start_date, end_date, freq='D')\n",
    "    sediment_data, discharge_data = batch_get_sediment_quantity(date_range, site_codes)\n",
    "    results = Parallel(n_jobs=-1)(delayed(process_site)(site, date_range, sediment_data, discharge_data) for site in site_codes)\n",
    "    data = np.stack(results, axis=0)\n",
    "\n",
    "    return data"
   ]
  },
  {
   "cell_type": "markdown",
   "metadata": {},
   "source": [
    "All data (2015-04-15 -> 2022-12-24)"
   ]
  },
  {
   "cell_type": "code",
   "execution_count": 5,
   "metadata": {},
   "outputs": [
    {
     "name": "stdout",
     "output_type": "stream",
     "text": [
      "Dialogues and ST data generated successfully!\n",
      "Data shape: (20, 2811, 2)\n"
     ]
    }
   ],
   "source": [
    "start_date = '2015-04-15'\n",
    "end_date = '2022-12-24'\n",
    "site_codes = [\"4178000\", \"4182000\", \"4183000\", \"4183500\", \"4184500\", \"4185000\", \"4185318\", \"4185440\", \"4186500\", \"4188100\",\n",
    "              \"4188496\", \"4189000\", \"4190000\", \"4191058\", \"4191444\", \"4191500\", \"4192500\", \"4192574\", \"4192599\", \"4193500\"]\n",
    "\n",
    "spatio_temporal_data = generate_spatio_temporal_data(start_date, end_date, site_codes)\n",
    "perpare_train()\n",
    "print(f\"Data shape: {spatio_temporal_data.shape}\")\n",
    "# (N, T, F) -> (20, 2811, 2) 对应 site 数量, 时间步数, 特征数\n",
    "# F=0: sendiment, F=1: discharge\n",
    "# print(spatio_temporal_data)\n",
    "np.save('data/discharge/data_encoder.npy', spatio_temporal_data)"
   ]
  },
  {
   "cell_type": "markdown",
   "metadata": {},
   "source": [
    "New train data (2017-12-19 -> 2022-12-24)"
   ]
  },
  {
   "cell_type": "code",
   "execution_count": 6,
   "metadata": {},
   "outputs": [
    {
     "name": "stdout",
     "output_type": "stream",
     "text": [
      "Dialogues and ST data generated successfully!\n",
      "Data shape: (20, 1832, 2)\n"
     ]
    }
   ],
   "source": [
    "start_date = '2017-12-19'\n",
    "end_date = '2022-12-24'\n",
    "site_codes = [\"4178000\", \"4182000\", \"4183000\", \"4183500\", \"4184500\", \"4185000\", \"4185318\", \"4185440\", \"4186500\", \"4188100\",\n",
    "              \"4188496\", \"4189000\", \"4190000\", \"4191058\", \"4191444\", \"4191500\", \"4192500\", \"4192574\", \"4192599\", \"4193500\"]\n",
    "\n",
    "spatio_temporal_data = generate_spatio_temporal_data(start_date, end_date, site_codes)\n",
    "perpare_train(start_date=start_date, st_name='st_data_new.pkl', gpt_name='st_gpt_new.json')\n",
    "print(f\"Data shape: {spatio_temporal_data.shape}\")\n",
    "# (N, T, F) -> (20, 2811, 2) 对应 site 数量, 时间步数, 特征数\n",
    "# F=0: sendiment, F=1: discharge\n",
    "# print(spatio_temporal_data)\n",
    "np.save('data/discharge/data_encoder_new.npy', spatio_temporal_data)"
   ]
  },
  {
   "cell_type": "code",
   "execution_count": 8,
   "metadata": {},
   "outputs": [
    {
     "name": "stdout",
     "output_type": "stream",
     "text": [
      "Dialogues and ST data generated successfully!\n",
      "Data shape: (20, 979, 2)\n"
     ]
    }
   ],
   "source": [
    "start_date = '2015-04-15'\n",
    "end_date = '2017-12-18'\n",
    "site_codes = [\"4178000\", \"4182000\", \"4183000\", \"4183500\", \"4184500\", \"4185000\", \"4185318\", \"4185440\", \"4186500\", \"4188100\",\n",
    "              \"4188496\", \"4189000\", \"4190000\", \"4191058\", \"4191444\", \"4191500\", \"4192500\", \"4192574\", \"4192599\", \"4193500\"]\n",
    "\n",
    "spatio_temporal_data = generate_spatio_temporal_data(start_date, end_date, site_codes)\n",
    "perpare_train(start_date=start_date, end_date=end_date, st_name='st_data_nan.pkl', gpt_name='st_gpt_nan.json')\n",
    "print(f\"Data shape: {spatio_temporal_data.shape}\")\n",
    "# (N, T, F) -> (20, 2811, 2) 对应 site 数量, 时间步数, 特征数\n",
    "# F=0: sendiment, F=1: discharge\n",
    "# print(spatio_temporal_data)\n",
    "np.save('data/discharge/data_encoder_nan.npy', spatio_temporal_data)"
   ]
  },
  {
   "cell_type": "code",
   "execution_count": null,
   "metadata": {},
   "outputs": [],
   "source": []
  }
 ],
 "metadata": {
  "kernelspec": {
   "display_name": "base",
   "language": "python",
   "name": "python3"
  },
  "language_info": {
   "codemirror_mode": {
    "name": "ipython",
    "version": 3
   },
   "file_extension": ".py",
   "mimetype": "text/x-python",
   "name": "python",
   "nbconvert_exporter": "python",
   "pygments_lexer": "ipython3",
   "version": "3.8.17"
  }
 },
 "nbformat": 4,
 "nbformat_minor": 2
}
