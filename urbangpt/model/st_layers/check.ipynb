{
 "cells": [
  {
   "cell_type": "code",
   "execution_count": 24,
   "metadata": {},
   "outputs": [
    {
     "name": "stdout",
     "output_type": "stream",
     "text": [
      "Data shape: N=20, T=2811, F=2\n",
      "Data_x shape: (2788, 12, 20, 2), Data_y shape: (2788, 12, 20, 2), Mask_y shape: (2788, 12, 20)\n",
      "(1, 12, 20, 2)\n",
      "[35.75590401 36.87654643 37.53120714 37.66152701 37.46116457 36.88022778\n",
      " 37.0516238  36.72795542 36.80495381 35.1461558  34.77340918 35.29120108]\n",
      "[35.00000611 33.99999579 31.99999454 29.99999328 29.00000234 27.00000109\n",
      " 27.00000109 27.00000109 25.99999077 25.99999077 25.99999077 25.99999077]\n"
     ]
    },
    {
     "ename": "IndexError",
     "evalue": "boolean index did not match indexed array along dimension 0; dimension is 12 but corresponding boolean dimension is 20",
     "output_type": "error",
     "traceback": [
      "\u001b[0;31m---------------------------------------------------------------------------\u001b[0m",
      "\u001b[0;31mIndexError\u001b[0m                                Traceback (most recent call last)",
      "Cell \u001b[0;32mIn[24], line 101\u001b[0m\n\u001b[1;32m     98\u001b[0m \u001b[38;5;28mprint\u001b[39m(sample_y[\u001b[38;5;241m0\u001b[39m, :, \u001b[38;5;241m0\u001b[39m, \u001b[38;5;241m0\u001b[39m])\n\u001b[1;32m    100\u001b[0m time_steps \u001b[38;5;241m=\u001b[39m np\u001b[38;5;241m.\u001b[39marange(\u001b[38;5;28mlen\u001b[39m(sample_y[\u001b[38;5;241m0\u001b[39m, :, \u001b[38;5;241m0\u001b[39m, \u001b[38;5;241m0\u001b[39m]))  \u001b[38;5;66;03m# 时间轴\u001b[39;00m\n\u001b[0;32m--> 101\u001b[0m \u001b[43mplot_predictions_vs_true_with_nan\u001b[49m\u001b[43m(\u001b[49m\u001b[43msample_y\u001b[49m\u001b[43m,\u001b[49m\u001b[43m \u001b[49m\u001b[43mpredicted_y\u001b[49m\u001b[43m,\u001b[49m\u001b[43m \u001b[49m\u001b[43mmask_y\u001b[49m\u001b[43m,\u001b[49m\u001b[43m \u001b[49m\u001b[43mtime_steps\u001b[49m\u001b[43m)\u001b[49m\n\u001b[1;32m    102\u001b[0m \u001b[38;5;28;01mbreak\u001b[39;00m\n",
      "Cell \u001b[0;32mIn[24], line 72\u001b[0m, in \u001b[0;36mplot_predictions_vs_true_with_nan\u001b[0;34m(sample_y, predicted_y, mask_y, time_steps, site_index)\u001b[0m\n\u001b[1;32m     68\u001b[0m predicted_discharge \u001b[38;5;241m=\u001b[39m predicted_y[\u001b[38;5;241m0\u001b[39m, site_index, :, \u001b[38;5;241m1\u001b[39m]\n\u001b[1;32m     70\u001b[0m nan_mask_sediment \u001b[38;5;241m=\u001b[39m np\u001b[38;5;241m.\u001b[39marray(mask_y[\u001b[38;5;241m0\u001b[39m, site_index, :], dtype\u001b[38;5;241m=\u001b[39m\u001b[38;5;28mbool\u001b[39m)\n\u001b[0;32m---> 72\u001b[0m plt\u001b[38;5;241m.\u001b[39mscatter(\u001b[43mtime_steps\u001b[49m\u001b[43m[\u001b[49m\u001b[38;5;241;43m~\u001b[39;49m\u001b[43mnan_mask_sediment\u001b[49m\u001b[43m]\u001b[49m, true_sediment[\u001b[38;5;241m~\u001b[39mnan_mask_sediment], color\u001b[38;5;241m=\u001b[39m\u001b[38;5;124m'\u001b[39m\u001b[38;5;124mk\u001b[39m\u001b[38;5;124m'\u001b[39m, label\u001b[38;5;241m=\u001b[39m\u001b[38;5;124m'\u001b[39m\u001b[38;5;124mNaN in True Sediment\u001b[39m\u001b[38;5;124m'\u001b[39m)\n\u001b[1;32m     73\u001b[0m plt\u001b[38;5;241m.\u001b[39mscatter(time_steps[\u001b[38;5;241m~\u001b[39mnan_mask_sediment], predicted_sediment[\u001b[38;5;241m~\u001b[39mnan_mask_sediment], color\u001b[38;5;241m=\u001b[39m\u001b[38;5;124m'\u001b[39m\u001b[38;5;124mm\u001b[39m\u001b[38;5;124m'\u001b[39m, label\u001b[38;5;241m=\u001b[39m\u001b[38;5;124m'\u001b[39m\u001b[38;5;124mNaN in Predicted Sediment\u001b[39m\u001b[38;5;124m'\u001b[39m)\n\u001b[1;32m     75\u001b[0m plt\u001b[38;5;241m.\u001b[39mplot(time_steps, true_sediment, label\u001b[38;5;241m=\u001b[39m\u001b[38;5;124m'\u001b[39m\u001b[38;5;124mTrue Sediment\u001b[39m\u001b[38;5;124m'\u001b[39m, color\u001b[38;5;241m=\u001b[39m\u001b[38;5;124m'\u001b[39m\u001b[38;5;124mb\u001b[39m\u001b[38;5;124m'\u001b[39m)\n",
      "\u001b[0;31mIndexError\u001b[0m: boolean index did not match indexed array along dimension 0; dimension is 12 but corresponding boolean dimension is 20"
     ]
    },
    {
     "data": {
      "text/plain": [
       "<Figure size 1400x700 with 0 Axes>"
      ]
     },
     "metadata": {},
     "output_type": "display_data"
    }
   ],
   "source": [
    "import torch\n",
    "import numpy as np\n",
    "import matplotlib.pyplot as plt\n",
    "from ST_Encoder import ST_Enc\n",
    "from args import parse_args\n",
    "from torch.utils.data import DataLoader, TensorDataset\n",
    "\n",
    "args = parse_args()\n",
    "data = np.load('/home/zhangmin/toby/UrbanGPT/data/discharge/data_encoder.npy')\n",
    "N, T, F = data.shape\n",
    "print(f\"Data shape: N={N}, T={T}, F={F}\")\n",
    "\n",
    "data_mean = np.nanmean(data, axis=(1, 2), keepdims=True)\n",
    "data_std = np.nanstd(data, axis=(1, 2), keepdims=True)\n",
    "data_std[data_std == 0] = 1  # 防止除以零\n",
    "data = (data - data_mean) / data_std\n",
    "\n",
    "input_window = args.input_window\n",
    "output_window = args.output_window\n",
    "\n",
    "data_x = []\n",
    "data_y = []\n",
    "mask_y = []\n",
    "\n",
    "for t in range(T - input_window - output_window + 1):\n",
    "    x = data[:, t:t+input_window, :].transpose(1, 0, 2)\n",
    "    y = data[:, t+input_window:t+input_window+output_window, :].transpose(1, 0, 2)\n",
    "    mask_y.append(~np.isnan(data[:, t+input_window:t+input_window+output_window, 0].transpose(1, 0)))\n",
    "    data_x.append(x)\n",
    "    data_y.append(y)\n",
    "\n",
    "data_x = np.array(data_x)\n",
    "data_y = np.array(data_y)\n",
    "mask_y = np.array(mask_y)\n",
    "\n",
    "print(f\"Data_x shape: {data_x.shape}, Data_y shape: {data_y.shape}, Mask_y shape: {mask_y.shape}\")\n",
    "\n",
    "assert data_x.shape[1] == input_window, f\"input sequence length not equal to preset sequence length, expected {input_window}, but got {data_x.shape[1]}\"\n",
    "\n",
    "data_x = torch.tensor(data_x, dtype=torch.float32)\n",
    "data_y = torch.tensor(data_y, dtype=torch.float32)\n",
    "mask_y = torch.tensor(mask_y, dtype=torch.float32)\n",
    "\n",
    "eval_dataset = TensorDataset(data_x, data_y, mask_y)\n",
    "eval_loader = DataLoader(eval_dataset, batch_size=1, shuffle=True)\n",
    "\n",
    "model = ST_Enc(args, dim_in=F, dim_out=args.output_dim).to('cuda')\n",
    "checkpoint_path = '/home/zhangmin/toby/UrbanGPT/checkpoints/st_encoder/pretrain_stencoder.pth'\n",
    "model.load_state_dict(torch.load(checkpoint_path))\n",
    "model.eval()\n",
    "\n",
    "\n",
    "def inverse_transform(data, mean, std):\n",
    "    mean = mean.squeeze()\n",
    "    std = std.squeeze()\n",
    "    mean = mean[np.newaxis, np.newaxis, :, np.newaxis]\n",
    "    std = std[np.newaxis, np.newaxis, :, np.newaxis]\n",
    "    return data * std + mean\n",
    "\n",
    "\n",
    "def plot_predictions_vs_true_with_nan(sample_y, predicted_y, mask_y, time_steps, site_index=0):\n",
    "    plt.figure(figsize=(14, 7))\n",
    "\n",
    "    true_sediment = sample_y[0, site_index, :, 0]\n",
    "    predicted_sediment = predicted_y[0, site_index, :, 0]\n",
    "\n",
    "    true_discharge = sample_y[0, site_index, :, 1]\n",
    "    predicted_discharge = predicted_y[0, site_index, :, 1]\n",
    "\n",
    "    nan_mask_sediment = np.array(mask_y[0, site_index, :], dtype=bool)\n",
    "\n",
    "    plt.scatter(time_steps[~nan_mask_sediment], true_sediment[~nan_mask_sediment], color='k', label='NaN in True Sediment')\n",
    "    plt.scatter(time_steps[~nan_mask_sediment], predicted_sediment[~nan_mask_sediment], color='m', label='NaN in Predicted Sediment')\n",
    "\n",
    "    plt.plot(time_steps, true_sediment, label='True Sediment', color='b')\n",
    "    plt.plot(time_steps, predicted_sediment, label='Predicted Sediment', color='r', linestyle='--')\n",
    "    plt.plot(time_steps, true_discharge, label='True Discharge', color='g')\n",
    "    plt.plot(time_steps, predicted_discharge, label='Predicted Discharge', color='orange', linestyle='--')\n",
    "    plt.xlabel('Time Steps')\n",
    "    plt.ylabel('Values')\n",
    "    plt.title(f'Site {site_index} Predictions vs. True Values')\n",
    "    plt.legend()\n",
    "    plt.show()\n",
    "\n",
    "\n",
    "with torch.no_grad():\n",
    "    for sample_x, sample_y, mask_y in eval_loader:\n",
    "        sample_x, sample_y, mask_y = sample_x.to('cuda'), sample_y.to('cuda'), mask_y.to('cuda')\n",
    "        predicted_y, _ = model(sample_x)\n",
    "        predicted_y = predicted_y.cpu().numpy()\n",
    "        sample_y = sample_y.cpu().numpy()\n",
    "        mask_y = mask_y.cpu().numpy()\n",
    "        predicted_y = inverse_transform(predicted_y, data_mean, data_std)\n",
    "        sample_y = inverse_transform(sample_y, data_mean, data_std)\n",
    "\n",
    "        print(predicted_y.shape)\n",
    "        print(predicted_y[0, :, 0, 0])\n",
    "        print(sample_y[0, :, 0, 0])\n",
    "\n",
    "        time_steps = np.arange(len(sample_y[0, :, 0, 0]))  # 时间轴\n",
    "        plot_predictions_vs_true_with_nan(sample_y, predicted_y, mask_y, time_steps)\n",
    "        break"
   ]
  },
  {
   "cell_type": "code",
   "execution_count": null,
   "metadata": {},
   "outputs": [],
   "source": []
  }
 ],
 "metadata": {
  "kernelspec": {
   "display_name": "pytorch-2.0",
   "language": "python",
   "name": "python3"
  },
  "language_info": {
   "codemirror_mode": {
    "name": "ipython",
    "version": 3
   },
   "file_extension": ".py",
   "mimetype": "text/x-python",
   "name": "python",
   "nbconvert_exporter": "python",
   "pygments_lexer": "ipython3",
   "version": "3.8.17"
  }
 },
 "nbformat": 4,
 "nbformat_minor": 2
}
